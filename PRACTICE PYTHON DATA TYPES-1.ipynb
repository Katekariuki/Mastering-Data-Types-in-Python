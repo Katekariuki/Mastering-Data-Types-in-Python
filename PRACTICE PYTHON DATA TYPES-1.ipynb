{
 "cells": [
  {
   "cell_type": "code",
   "execution_count": null,
   "metadata": {},
   "outputs": [
    {
     "name": "stdout",
     "output_type": "stream",
     "text": [
      "24\n"
     ]
    }
   ],
   "source": [
    "#What will be the output of the following code? x = -15 , print(abs(x) + pow(3, 2))\n",
    "x=-15\n",
    "print(abs(x)+pow(3,2))"
   ]
  },
  {
   "cell_type": "code",
   "execution_count": null,
   "metadata": {},
   "outputs": [
    {
     "name": "stdout",
     "output_type": "stream",
     "text": [
      "0b101101\n",
      "0x2d\n"
     ]
    }
   ],
   "source": [
    "#Convert the number 45 to its binary and hexadecimal representations using Python functions\n",
    "number=45\n",
    "binary_number=bin(number)\n",
    "print(binary_number)\n",
    "\n",
    "hexadecimal_number=hex(number)\n",
    "print(hexadecimal_number)"
   ]
  },
  {
   "cell_type": "code",
   "execution_count": 2,
   "metadata": {},
   "outputs": [
    {
     "name": "stdout",
     "output_type": "stream",
     "text": [
      "<class 'str'>\n"
     ]
    }
   ],
   "source": [
    "#What will be the output of the following? print(type(bin(25)))\n",
    "print(type(bin(25)))"
   ]
  },
  {
   "cell_type": "code",
   "execution_count": 3,
   "metadata": {},
   "outputs": [
    {
     "name": "stdout",
     "output_type": "stream",
     "text": [
      "5.7\n"
     ]
    }
   ],
   "source": [
    "#What will be the output of the following code? \n",
    "num = 5.6789 \n",
    "print(round(num, 1)) "
   ]
  },
  {
   "cell_type": "code",
   "execution_count": 6,
   "metadata": {},
   "outputs": [
    {
     "name": "stdout",
     "output_type": "stream",
     "text": [
      "25.75\n"
     ]
    },
    {
     "data": {
      "text/plain": [
       "float"
      ]
     },
     "execution_count": 6,
     "metadata": {},
     "output_type": "execute_result"
    }
   ],
   "source": [
    "#Convert the string \"20.75\" into a float and add 5 to it.\n",
    "number='20.75'\n",
    "Converted_number= float(number)+5\n",
    "print(Converted_number)\n",
    "type(Converted_number)"
   ]
  },
  {
   "cell_type": "code",
   "execution_count": 7,
   "metadata": {},
   "outputs": [
    {
     "name": "stdout",
     "output_type": "stream",
     "text": [
      "10.0 10\n"
     ]
    }
   ],
   "source": [
    "#What is the difference between float(10) and int(10.5) in terms of output? \n",
    "number=float(10)\n",
    "number1=int(10.5)\n",
    "print(number,number1)"
   ]
  },
  {
   "cell_type": "code",
   "execution_count": 23,
   "metadata": {},
   "outputs": [
    {
     "name": "stdout",
     "output_type": "stream",
     "text": [
      "Python Programming\n"
     ]
    }
   ],
   "source": [
    "#Given s = \" Python Programming \", write a line of code to remove extra spaces and convert it to lowercase.\n",
    "s = \" Python Programming \"\n",
    "updated_s=s.strip()\n",
    "print(updated_s)"
   ]
  },
  {
   "cell_type": "code",
   "execution_count": 8,
   "metadata": {},
   "outputs": [
    {
     "name": "stdout",
     "output_type": "stream",
     "text": [
      "hello Python\n"
     ]
    }
   ],
   "source": [
    "#What will be the output of the following? \n",
    "text = \"hello world\" \n",
    "print(text.replace(\"world\", \"Python\")) "
   ]
  },
  {
   "cell_type": "code",
   "execution_count": 9,
   "metadata": {},
   "outputs": [
    {
     "name": "stdout",
     "output_type": "stream",
     "text": [
      "apple\n",
      "banana\n",
      "grapes\n"
     ]
    }
   ],
   "source": [
    "#Write a Python expression to split \"apple,banana,grapes\" into a list of individual fruits.\n",
    "fruits=['apple','banana','grapes']\n",
    "for fruit in fruits:\n",
    "    print (fruit)"
   ]
  },
  {
   "cell_type": "code",
   "execution_count": null,
   "metadata": {},
   "outputs": [
    {
     "data": {
      "text/plain": [
       "2"
      ]
     },
     "execution_count": 14,
     "metadata": {},
     "output_type": "execute_result"
    }
   ],
   "source": [
    "#Given numbers = [3, 1, 4, 1, 5, 9], write a line of code to count how many times 1 appears in the list.\n",
    "numbers=[3,1,4,1,5,9]\n",
    "numbers.count(1)"
   ]
  },
  {
   "cell_type": "code",
   "execution_count": 15,
   "metadata": {},
   "outputs": [
    {
     "name": "stdout",
     "output_type": "stream",
     "text": [
      "['apple', 'cherry', 'mango']\n"
     ]
    }
   ],
   "source": [
    "#What will be the output of the following? fruits = ['apple', 'banana', 'cherry'] fruits.append('mango') fruits.remove('banana') print(fruits) \n",
    "fruits = ['apple', 'banana', 'cherry'] \n",
    "fruits.append('mango') \n",
    "fruits.remove('banana') \n",
    "print(fruits)"
   ]
  },
  {
   "cell_type": "code",
   "execution_count": 2,
   "metadata": {},
   "outputs": [
    {
     "name": "stdout",
     "output_type": "stream",
     "text": [
      "[45, 56, 78, 89]\n"
     ]
    }
   ],
   "source": [
    "#Write a Python expression to sort marks = [78, 56, 89, 45] in ascending order.\n",
    "marks=[78, 56, 89, 45]\n",
    "sorted_marks=marks.sort()\n",
    "print(marks)"
   ]
  }
 ],
 "metadata": {
  "kernelspec": {
   "display_name": "Python 3",
   "language": "python",
   "name": "python3"
  },
  "language_info": {
   "codemirror_mode": {
    "name": "ipython",
    "version": 3
   },
   "file_extension": ".py",
   "mimetype": "text/x-python",
   "name": "python",
   "nbconvert_exporter": "python",
   "pygments_lexer": "ipython3",
   "version": "3.13.2"
  }
 },
 "nbformat": 4,
 "nbformat_minor": 2
}
